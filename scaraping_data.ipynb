{
 "cells": [
  {
   "cell_type": "code",
   "execution_count": 1,
   "metadata": {},
   "outputs": [],
   "source": [
    "import bs4 as bs\n",
    "import urllib.request\n",
    "import pandas as pd"
   ]
  },
  {
   "cell_type": "code",
   "execution_count": null,
   "metadata": {},
   "outputs": [],
   "source": [
    "# Reading the html file\n",
    "source = urllib.request.urlopen('https://en.wikipedia.org/wiki/List_of_postal_codes_of_Canada:_M').read()\n",
    "\n",
    "# Finding the table\n",
    "soup = bs.BeautifulSoup(source, 'html.parser')\n",
    "table = soup.find('table', attrs={'class':'wikitable sortable'})\n",
    "\n",
    "# Get all table rows\n",
    "table_rows = table.find_all('tr')\n",
    "\n",
    "# Taking the column names of the table\n",
    "ths = table_rows[0].find_all('th')\n",
    "cols =[th.text.strip().replace(\" \", \"\") for th in ths]\n",
    "\n",
    "# Extracting all the data in the table\n",
    "data = [] \n",
    "table_rows[0]\n",
    "for tr in table_rows:\n",
    "    tds = tr.find_all('td')\n",
    "    row = [td.text.strip() for td in tds]\n",
    "    if len(row) > 0:\n",
    "        data.append(row)"
   ]
  },
  {
   "cell_type": "code",
   "execution_count": null,
   "metadata": {},
   "outputs": [],
   "source": [
    "# Crerating the dataframe\n",
    "df_table = pd.DataFrame(data, columns=cols)\n",
    "df_table.head()"
   ]
  },
  {
   "cell_type": "markdown",
   "metadata": {},
   "source": [
    "Checking for repeated postal codes"
   ]
  },
  {
   "cell_type": "code",
   "execution_count": null,
   "metadata": {},
   "outputs": [],
   "source": [
    "df_table[['PostalCode','Borough']].groupby('PostalCode').count().sort_values(by='Borough',ascending=False)"
   ]
  },
  {
   "cell_type": "code",
   "execution_count": null,
   "metadata": {},
   "outputs": [],
   "source": [
    "df_table[df_table['PostalCode'] == 'M5A']"
   ]
  },
  {
   "cell_type": "markdown",
   "metadata": {},
   "source": [
    "Therefore, in the the new table in wikipedia, postal codes are not repeated. Now lets removed Boroughs that are Not assigned."
   ]
  },
  {
   "cell_type": "code",
   "execution_count": 6,
   "metadata": {},
   "outputs": [],
   "source": [
    "df_table = df_table[df_table['Borough'] != 'Not assigned']"
   ]
  },
  {
   "cell_type": "markdown",
   "metadata": {},
   "source": [
    "Now not assigned Boroughs are removed from the table. Now lets check if we have any Neighbourhoods with Not Assigned value."
   ]
  },
  {
   "cell_type": "code",
   "execution_count": 9,
   "metadata": {},
   "outputs": [],
   "source": [
    "df_table[df_table['Neighbourhood'] != 'Not assigned']"
   ]
  },
  {
   "cell_type": "code",
   "execution_count": null,
   "metadata": {},
   "outputs": [],
   "source": [
    "This shows that there are there are Neighbourhoods with Not Assigned values. Therefore we are done cleaning the table."
   ]
  },
  {
   "cell_type": "code",
   "execution_count": 7,
   "metadata": {},
   "outputs": [
    {
     "data": {
      "text/plain": [
       "(103, 3)"
      ]
     },
     "execution_count": 7,
     "metadata": {},
     "output_type": "execute_result"
    }
   ],
   "source": [
    "df_table.shape"
   ]
  },
  {
   "cell_type": "markdown",
   "metadata": {},
   "source": [
    "Cleaned table have 103 rows that corresponds to 103 Boroughs."
   ]
  },
  {
   "cell_type": "code",
   "execution_count": null,
   "metadata": {},
   "outputs": [],
   "source": []
  }
 ],
 "metadata": {
  "kernelspec": {
   "display_name": "Python 3",
   "language": "python",
   "name": "python3"
  },
  "language_info": {
   "codemirror_mode": {
    "name": "ipython",
    "version": 3
   },
   "file_extension": ".py",
   "mimetype": "text/x-python",
   "name": "python",
   "nbconvert_exporter": "python",
   "pygments_lexer": "ipython3",
   "version": "3.8.3"
  }
 },
 "nbformat": 4,
 "nbformat_minor": 4
}
