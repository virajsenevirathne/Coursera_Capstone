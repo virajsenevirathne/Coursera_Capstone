{
 "cells": [
  {
   "cell_type": "code",
   "execution_count": 1,
   "metadata": {},
   "outputs": [],
   "source": [
    "import bs4 as bs\n",
    "import urllib.request\n",
    "import pandas as pd\n",
    "from geopy.geocoders import GoogleV3, Nominatim"
   ]
  },
  {
   "cell_type": "code",
   "execution_count": 2,
   "metadata": {},
   "outputs": [],
   "source": [
    "# Reading the html file\n",
    "source = urllib.request.urlopen('https://en.wikipedia.org/wiki/List_of_postal_codes_of_Canada:_M').read()\n",
    "\n",
    "# Finding the table\n",
    "soup = bs.BeautifulSoup(source, 'html.parser')\n",
    "table = soup.find('table', attrs={'class':'wikitable sortable'})\n",
    "\n",
    "# Get all table rows\n",
    "table_rows = table.find_all('tr')\n",
    "\n",
    "# Taking the column names of the table\n",
    "ths = table_rows[0].find_all('th')\n",
    "cols =[th.text.strip().replace(\" \", \"\") for th in ths]\n",
    "\n",
    "# Extracting all the data in the table\n",
    "data = [] \n",
    "table_rows[0]\n",
    "for tr in table_rows:\n",
    "    tds = tr.find_all('td')\n",
    "    row = [td.text.strip() for td in tds]\n",
    "    if len(row) > 0:\n",
    "        data.append(row)"
   ]
  },
  {
   "cell_type": "code",
   "execution_count": 3,
   "metadata": {},
   "outputs": [
    {
     "data": {
      "text/html": [
       "<div>\n",
       "<style scoped>\n",
       "    .dataframe tbody tr th:only-of-type {\n",
       "        vertical-align: middle;\n",
       "    }\n",
       "\n",
       "    .dataframe tbody tr th {\n",
       "        vertical-align: top;\n",
       "    }\n",
       "\n",
       "    .dataframe thead th {\n",
       "        text-align: right;\n",
       "    }\n",
       "</style>\n",
       "<table border=\"1\" class=\"dataframe\">\n",
       "  <thead>\n",
       "    <tr style=\"text-align: right;\">\n",
       "      <th></th>\n",
       "      <th>PostalCode</th>\n",
       "      <th>Borough</th>\n",
       "      <th>Neighbourhood</th>\n",
       "    </tr>\n",
       "  </thead>\n",
       "  <tbody>\n",
       "    <tr>\n",
       "      <th>0</th>\n",
       "      <td>M1A</td>\n",
       "      <td>Not assigned</td>\n",
       "      <td>Not assigned</td>\n",
       "    </tr>\n",
       "    <tr>\n",
       "      <th>1</th>\n",
       "      <td>M2A</td>\n",
       "      <td>Not assigned</td>\n",
       "      <td>Not assigned</td>\n",
       "    </tr>\n",
       "    <tr>\n",
       "      <th>2</th>\n",
       "      <td>M3A</td>\n",
       "      <td>North York</td>\n",
       "      <td>Parkwoods</td>\n",
       "    </tr>\n",
       "    <tr>\n",
       "      <th>3</th>\n",
       "      <td>M4A</td>\n",
       "      <td>North York</td>\n",
       "      <td>Victoria Village</td>\n",
       "    </tr>\n",
       "    <tr>\n",
       "      <th>4</th>\n",
       "      <td>M5A</td>\n",
       "      <td>Downtown Toronto</td>\n",
       "      <td>Regent Park, Harbourfront</td>\n",
       "    </tr>\n",
       "  </tbody>\n",
       "</table>\n",
       "</div>"
      ],
      "text/plain": [
       "  PostalCode           Borough              Neighbourhood\n",
       "0        M1A      Not assigned               Not assigned\n",
       "1        M2A      Not assigned               Not assigned\n",
       "2        M3A        North York                  Parkwoods\n",
       "3        M4A        North York           Victoria Village\n",
       "4        M5A  Downtown Toronto  Regent Park, Harbourfront"
      ]
     },
     "execution_count": 3,
     "metadata": {},
     "output_type": "execute_result"
    }
   ],
   "source": [
    "# Crerating the dataframe\n",
    "df_table = pd.DataFrame(data, columns=cols)\n",
    "df_table.head()"
   ]
  },
  {
   "cell_type": "markdown",
   "metadata": {},
   "source": [
    "Checking for repeated postal codes"
   ]
  },
  {
   "cell_type": "code",
   "execution_count": 4,
   "metadata": {},
   "outputs": [
    {
     "data": {
      "text/html": [
       "<div>\n",
       "<style scoped>\n",
       "    .dataframe tbody tr th:only-of-type {\n",
       "        vertical-align: middle;\n",
       "    }\n",
       "\n",
       "    .dataframe tbody tr th {\n",
       "        vertical-align: top;\n",
       "    }\n",
       "\n",
       "    .dataframe thead th {\n",
       "        text-align: right;\n",
       "    }\n",
       "</style>\n",
       "<table border=\"1\" class=\"dataframe\">\n",
       "  <thead>\n",
       "    <tr style=\"text-align: right;\">\n",
       "      <th></th>\n",
       "      <th>Borough</th>\n",
       "    </tr>\n",
       "    <tr>\n",
       "      <th>PostalCode</th>\n",
       "      <th></th>\n",
       "    </tr>\n",
       "  </thead>\n",
       "  <tbody>\n",
       "    <tr>\n",
       "      <th>M1A</th>\n",
       "      <td>1</td>\n",
       "    </tr>\n",
       "    <tr>\n",
       "      <th>M6S</th>\n",
       "      <td>1</td>\n",
       "    </tr>\n",
       "    <tr>\n",
       "      <th>M6V</th>\n",
       "      <td>1</td>\n",
       "    </tr>\n",
       "    <tr>\n",
       "      <th>M6W</th>\n",
       "      <td>1</td>\n",
       "    </tr>\n",
       "    <tr>\n",
       "      <th>M6X</th>\n",
       "      <td>1</td>\n",
       "    </tr>\n",
       "    <tr>\n",
       "      <th>...</th>\n",
       "      <td>...</td>\n",
       "    </tr>\n",
       "    <tr>\n",
       "      <th>M4B</th>\n",
       "      <td>1</td>\n",
       "    </tr>\n",
       "    <tr>\n",
       "      <th>M4C</th>\n",
       "      <td>1</td>\n",
       "    </tr>\n",
       "    <tr>\n",
       "      <th>M4E</th>\n",
       "      <td>1</td>\n",
       "    </tr>\n",
       "    <tr>\n",
       "      <th>M4G</th>\n",
       "      <td>1</td>\n",
       "    </tr>\n",
       "    <tr>\n",
       "      <th>M9Z</th>\n",
       "      <td>1</td>\n",
       "    </tr>\n",
       "  </tbody>\n",
       "</table>\n",
       "<p>180 rows × 1 columns</p>\n",
       "</div>"
      ],
      "text/plain": [
       "            Borough\n",
       "PostalCode         \n",
       "M1A               1\n",
       "M6S               1\n",
       "M6V               1\n",
       "M6W               1\n",
       "M6X               1\n",
       "...             ...\n",
       "M4B               1\n",
       "M4C               1\n",
       "M4E               1\n",
       "M4G               1\n",
       "M9Z               1\n",
       "\n",
       "[180 rows x 1 columns]"
      ]
     },
     "execution_count": 4,
     "metadata": {},
     "output_type": "execute_result"
    }
   ],
   "source": [
    "df_table[['PostalCode','Borough']].groupby('PostalCode').count().sort_values(by='Borough',ascending=False)"
   ]
  },
  {
   "cell_type": "code",
   "execution_count": 5,
   "metadata": {},
   "outputs": [
    {
     "data": {
      "text/html": [
       "<div>\n",
       "<style scoped>\n",
       "    .dataframe tbody tr th:only-of-type {\n",
       "        vertical-align: middle;\n",
       "    }\n",
       "\n",
       "    .dataframe tbody tr th {\n",
       "        vertical-align: top;\n",
       "    }\n",
       "\n",
       "    .dataframe thead th {\n",
       "        text-align: right;\n",
       "    }\n",
       "</style>\n",
       "<table border=\"1\" class=\"dataframe\">\n",
       "  <thead>\n",
       "    <tr style=\"text-align: right;\">\n",
       "      <th></th>\n",
       "      <th>PostalCode</th>\n",
       "      <th>Borough</th>\n",
       "      <th>Neighbourhood</th>\n",
       "    </tr>\n",
       "  </thead>\n",
       "  <tbody>\n",
       "    <tr>\n",
       "      <th>4</th>\n",
       "      <td>M5A</td>\n",
       "      <td>Downtown Toronto</td>\n",
       "      <td>Regent Park, Harbourfront</td>\n",
       "    </tr>\n",
       "  </tbody>\n",
       "</table>\n",
       "</div>"
      ],
      "text/plain": [
       "  PostalCode           Borough              Neighbourhood\n",
       "4        M5A  Downtown Toronto  Regent Park, Harbourfront"
      ]
     },
     "execution_count": 5,
     "metadata": {},
     "output_type": "execute_result"
    }
   ],
   "source": [
    "df_table[df_table['PostalCode'] == 'M5A']"
   ]
  },
  {
   "cell_type": "markdown",
   "metadata": {},
   "source": [
    "Therefore, in the the new table in wikipedia, postal codes are not repeated. Now lets removed Boroughs that are Not assigned."
   ]
  },
  {
   "cell_type": "code",
   "execution_count": 6,
   "metadata": {},
   "outputs": [],
   "source": [
    "df_table = df_table[df_table['Borough'] != 'Not assigned']"
   ]
  },
  {
   "cell_type": "markdown",
   "metadata": {},
   "source": [
    "Now not assigned Boroughs are removed from the table. Now lets check if we have any Neighbourhoods with Not Assigned value."
   ]
  },
  {
   "cell_type": "code",
   "execution_count": 7,
   "metadata": {},
   "outputs": [
    {
     "data": {
      "text/html": [
       "<div>\n",
       "<style scoped>\n",
       "    .dataframe tbody tr th:only-of-type {\n",
       "        vertical-align: middle;\n",
       "    }\n",
       "\n",
       "    .dataframe tbody tr th {\n",
       "        vertical-align: top;\n",
       "    }\n",
       "\n",
       "    .dataframe thead th {\n",
       "        text-align: right;\n",
       "    }\n",
       "</style>\n",
       "<table border=\"1\" class=\"dataframe\">\n",
       "  <thead>\n",
       "    <tr style=\"text-align: right;\">\n",
       "      <th></th>\n",
       "      <th>PostalCode</th>\n",
       "      <th>Borough</th>\n",
       "      <th>Neighbourhood</th>\n",
       "    </tr>\n",
       "  </thead>\n",
       "  <tbody>\n",
       "  </tbody>\n",
       "</table>\n",
       "</div>"
      ],
      "text/plain": [
       "Empty DataFrame\n",
       "Columns: [PostalCode, Borough, Neighbourhood]\n",
       "Index: []"
      ]
     },
     "execution_count": 7,
     "metadata": {},
     "output_type": "execute_result"
    }
   ],
   "source": [
    "df_table[df_table['Neighbourhood'] == 'Not assigned']"
   ]
  },
  {
   "cell_type": "markdown",
   "metadata": {},
   "source": [
    "This shows that there are there are Neighbourhoods with Not Assigned values. Therefore we are done cleaning the table."
   ]
  },
  {
   "cell_type": "code",
   "execution_count": 8,
   "metadata": {},
   "outputs": [
    {
     "data": {
      "text/plain": [
       "(103, 3)"
      ]
     },
     "execution_count": 8,
     "metadata": {},
     "output_type": "execute_result"
    }
   ],
   "source": [
    "df_table.shape"
   ]
  },
  {
   "cell_type": "markdown",
   "metadata": {},
   "source": [
    "Cleaned table have 103 rows that corresponds to 103 Boroughs."
   ]
  },
  {
   "cell_type": "code",
   "execution_count": 13,
   "metadata": {},
   "outputs": [],
   "source": [
    "geolocator = GoogleV3(api_key=\"apikey\")"
   ]
  },
  {
   "cell_type": "code",
   "execution_count": 10,
   "metadata": {},
   "outputs": [],
   "source": [
    "def get_latlng(row):\n",
    "    g = geolocator.geocode('{0}, {1}'.format(row.PostalCode, row.Borough))\n",
    "    print('Searched Address: {0}, {1} --> Found Address: {2} | lat: {3} | lng : {4}'\n",
    "          .format(row.PostalCode, row.Borough, str(g), g.latitude, g.longitude))\n",
    "    row['Latitude'] = g.latitude\n",
    "    row['Longitude'] = g.longitude\n",
    "    \n",
    "    return row"
   ]
  },
  {
   "cell_type": "code",
   "execution_count": 11,
   "metadata": {},
   "outputs": [
    {
     "name": "stdout",
     "output_type": "stream",
     "text": [
      "Searched Address: M3A, North York --> Found Address: North York, ON M3A, Canada | lat: 43.7532586 | lng : -79.3296565\n",
      "Searched Address: M3A, North York --> Found Address: North York, ON M3A, Canada | lat: 43.7532586 | lng : -79.3296565\n",
      "Searched Address: M4A, North York --> Found Address: North York, ON M4A, Canada | lat: 43.72588229999999 | lng : -79.3155716\n",
      "Searched Address: M5A, Downtown Toronto --> Found Address: Toronto, ON M5A, Canada | lat: 43.6542599 | lng : -79.36063589999999\n",
      "Searched Address: M6A, North York --> Found Address: North York, ON M6A, Canada | lat: 43.718518 | lng : -79.4647633\n",
      "Searched Address: M7A, Downtown Toronto --> Found Address: North York, ON M7A, Canada | lat: 43.6623015 | lng : -79.3894938\n",
      "Searched Address: M9A, Etobicoke --> Found Address: Etobicoke, ON M9A, Canada | lat: 43.6678556 | lng : -79.5322424\n",
      "Searched Address: M1B, Scarborough --> Found Address: Scarborough, ON M1B, Canada | lat: 43.8066863 | lng : -79.1943534\n",
      "Searched Address: M3B, North York --> Found Address: North York, ON M3B, Canada | lat: 43.7459058 | lng : -79.352188\n",
      "Searched Address: M4B, East York --> Found Address: Toronto, ON M4B, Canada | lat: 43.7063972 | lng : -79.30993699999999\n",
      "Searched Address: M5B, Downtown Toronto --> Found Address: Toronto, ON M5B, Canada | lat: 43.6571618 | lng : -79.3789371\n",
      "Searched Address: M6B, North York --> Found Address: Toronto, ON M6B, Canada | lat: 43.709577 | lng : -79.4450726\n",
      "Searched Address: M9B, Etobicoke --> Found Address: Etobicoke, ON M9B, Canada | lat: 43.65094320000001 | lng : -79.5547244\n",
      "Searched Address: M1C, Scarborough --> Found Address: Scarborough, ON M1C, Canada | lat: 43.78453510000001 | lng : -79.1604971\n",
      "Searched Address: M3C, North York --> Found Address: Toronto, ON M3C, Canada | lat: 43.7258997 | lng : -79.34092299999999\n",
      "Searched Address: M4C, East York --> Found Address: Toronto, ON M4C, Canada | lat: 43.6953439 | lng : -79.3183887\n",
      "Searched Address: M5C, Downtown Toronto --> Found Address: Toronto, ON M5C, Canada | lat: 43.6514939 | lng : -79.3754179\n",
      "Searched Address: M6C, York --> Found Address: Toronto, ON M6C, Canada | lat: 43.6937813 | lng : -79.4281914\n",
      "Searched Address: M9C, Etobicoke --> Found Address: Etobicoke, ON M9C, Canada | lat: 43.6435152 | lng : -79.5772008\n",
      "Searched Address: M1E, Scarborough --> Found Address: Scarborough, ON M1E, Canada | lat: 43.7635726 | lng : -79.1887115\n",
      "Searched Address: M4E, East Toronto --> Found Address: Toronto, ON M4E, Canada | lat: 43.6763574 | lng : -79.2930312\n",
      "Searched Address: M5E, Downtown Toronto --> Found Address: Toronto, ON M5E, Canada | lat: 43.6447708 | lng : -79.37330639999999\n",
      "Searched Address: M6E, York --> Found Address: Toronto, ON M6E, Canada | lat: 43.68902560000001 | lng : -79.453512\n",
      "Searched Address: M1G, Scarborough --> Found Address: Scarborough, ON M1G, Canada | lat: 43.7709921 | lng : -79.2169174\n",
      "Searched Address: M4G, East York --> Found Address: North York, ON M4G, Canada | lat: 43.7090604 | lng : -79.3634517\n",
      "Searched Address: M5G, Downtown Toronto --> Found Address: Toronto, ON M5G, Canada | lat: 43.6579524 | lng : -79.3873826\n",
      "Searched Address: M6G, Downtown Toronto --> Found Address: Toronto, ON M6G, Canada | lat: 43.669542 | lng : -79.4225637\n",
      "Searched Address: M1H, Scarborough --> Found Address: Scarborough, ON M1H, Canada | lat: 43.773136 | lng : -79.23947609999999\n",
      "Searched Address: M2H, North York --> Found Address: North York, ON M2H, Canada | lat: 43.8037622 | lng : -79.3634517\n",
      "Searched Address: M3H, North York --> Found Address: North York, ON M3H, Canada | lat: 43.7543283 | lng : -79.4422593\n",
      "Searched Address: M4H, East York --> Found Address: Toronto, ON M4H, Canada | lat: 43.7053689 | lng : -79.3493719\n",
      "Searched Address: M5H, Downtown Toronto --> Found Address: Toronto, ON M5H, Canada | lat: 43.65057119999999 | lng : -79.3845675\n",
      "Searched Address: M6H, West Toronto --> Found Address: W Toronto St, Toronto, ON M6N, Canada | lat: 43.6694459 | lng : -79.46914749999999\n",
      "Searched Address: M1J, Scarborough --> Found Address: Scarborough, ON M1J, Canada | lat: 43.7447342 | lng : -79.23947609999999\n",
      "Searched Address: M2J, North York --> Found Address: North York, ON M2J, Canada | lat: 43.7785175 | lng : -79.3465557\n",
      "Searched Address: M3J, North York --> Found Address: North York, ON M3J, Canada | lat: 43.7679803 | lng : -79.4872619\n",
      "Searched Address: M4J, East York --> Found Address: Toronto, ON M4J, Canada | lat: 43.685347 | lng : -79.3381065\n",
      "Searched Address: M5J, Downtown Toronto --> Found Address: Toronto, ON M5J, Canada | lat: 43.6408157 | lng : -79.3817523\n",
      "Searched Address: M6J, West Toronto --> Found Address: Toronto, ON, Canada | lat: 43.653226 | lng : -79.3831843\n",
      "Searched Address: M1K, Scarborough --> Found Address: Scarborough, ON M1K, Canada | lat: 43.7279292 | lng : -79.2620294\n",
      "Searched Address: M2K, North York --> Found Address: North York, ON M2K, Canada | lat: 43.7869473 | lng : -79.385975\n",
      "Searched Address: M3K, North York --> Found Address: North York, ON M3K, Canada | lat: 43.7374732 | lng : -79.4647633\n",
      "Searched Address: M4K, East Toronto --> Found Address: Toronto, ON M4K, Canada | lat: 43.6795571 | lng : -79.352188\n",
      "Searched Address: M5K, Downtown Toronto --> Found Address: Toronto, ON M5K, Canada | lat: 43.6471768 | lng : -79.3815764\n",
      "Searched Address: M6K, West Toronto --> Found Address: West Queen West, Toronto, ON, Canada | lat: 43.6435768 | lng : -79.4176391\n",
      "Searched Address: M1L, Scarborough --> Found Address: North York, ON M1L, Canada | lat: 43.7111117 | lng : -79.2845772\n",
      "Searched Address: M2L, North York --> Found Address: North York, ON M2L, Canada | lat: 43.7574902 | lng : -79.37471409999999\n",
      "Searched Address: M3L, North York --> Found Address: North York, ON M3L, Canada | lat: 43.7390146 | lng : -79.5069436\n",
      "Searched Address: M4L, East Toronto --> Found Address: Toronto, ON M4L, Canada | lat: 43.6689985 | lng : -79.3155716\n",
      "Searched Address: M5L, Downtown Toronto --> Found Address: Toronto, ON M5L, Canada | lat: 43.6481985 | lng : -79.3798169\n",
      "Searched Address: M6L, North York --> Found Address: North York, ON M6L, Canada | lat: 43.7137562 | lng : -79.49007379999999\n",
      "Searched Address: M9L, North York --> Found Address: North York, ON M9L, Canada | lat: 43.7563033 | lng : -79.56596329999999\n",
      "Searched Address: M1M, Scarborough --> Found Address: Scarborough, ON M1M, Canada | lat: 43.716316 | lng : -79.23947609999999\n",
      "Searched Address: M2M, North York --> Found Address: North York, ON M2M, Canada | lat: 43.789053 | lng : -79.40849279999999\n",
      "Searched Address: M3M, North York --> Found Address: North York, ON M3M, Canada | lat: 43.7284964 | lng : -79.4956974\n",
      "Searched Address: M4M, East Toronto --> Found Address: Toronto, ON M4M, Canada | lat: 43.6595255 | lng : -79.34092299999999\n",
      "Searched Address: M5M, North York --> Found Address: Toronto, ON M5M, Canada | lat: 43.7332825 | lng : -79.4197497\n",
      "Searched Address: M6M, York --> Found Address: Toronto, ON M6M, Canada | lat: 43.6911158 | lng : -79.47601329999999\n",
      "Searched Address: M9M, North York --> Found Address: North York, ON M9M, Canada | lat: 43.7247659 | lng : -79.5322424\n",
      "Searched Address: M1N, Scarborough --> Found Address: Scarborough, ON M1N, Canada | lat: 43.692657 | lng : -79.2648481\n",
      "Searched Address: M2N, North York --> Found Address: North York, ON M2N, Canada | lat: 43.7701199 | lng : -79.40849279999999\n",
      "Searched Address: M3N, North York --> Found Address: North York, ON M3N, Canada | lat: 43.7616313 | lng : -79.5209994\n",
      "Searched Address: M4N, Central Toronto --> Found Address: Toronto, ON M4N, Canada | lat: 43.7280205 | lng : -79.3887901\n",
      "Searched Address: M5N, Central Toronto --> Found Address: Toronto, ON M5N, Canada | lat: 43.7116948 | lng : -79.4169356\n",
      "Searched Address: M6N, York --> Found Address: Toronto, ON M6N, Canada | lat: 43.6731853 | lng : -79.4872619\n",
      "Searched Address: M9N, York --> Found Address: Toronto, ON M9N, Canada | lat: 43.706876 | lng : -79.5181884\n",
      "Searched Address: M1P, Scarborough --> Found Address: Scarborough, ON M1P, Canada | lat: 43.7574096 | lng : -79.273304\n",
      "Searched Address: M2P, North York --> Found Address: North York, ON M2P, Canada | lat: 43.7527583 | lng : -79.40004929999999\n",
      "Searched Address: M4P, Central Toronto --> Found Address: North York, ON M4P, Canada | lat: 43.7127511 | lng : -79.3901975\n"
     ]
    },
    {
     "name": "stdout",
     "output_type": "stream",
     "text": [
      "Searched Address: M5P, Central Toronto --> Found Address: York, ON M5P, Canada | lat: 43.6969476 | lng : -79.4113072\n",
      "Searched Address: M6P, West Toronto --> Found Address: Toronto, ON, Canada | lat: 43.653226 | lng : -79.3831843\n",
      "Searched Address: M9P, Etobicoke --> Found Address: Etobicoke, ON M9P, Canada | lat: 43.696319 | lng : -79.5322424\n",
      "Searched Address: M1R, Scarborough --> Found Address: North York, ON M1R, Canada | lat: 43.7500715 | lng : -79.2958491\n",
      "Searched Address: M2R, North York --> Found Address: North York, ON M2R, Canada | lat: 43.7827364 | lng : -79.4422593\n",
      "Searched Address: M4R, Central Toronto --> Found Address: North York, ON M4R, Canada | lat: 43.7153834 | lng : -79.4056784\n",
      "Searched Address: M5R, Central Toronto --> Found Address: Toronto, ON M5R, Canada | lat: 43.6727097 | lng : -79.4056784\n",
      "Searched Address: M6R, West Toronto --> Found Address: W Toronto St, Toronto, ON M6N, Canada | lat: 43.6694459 | lng : -79.46914749999999\n",
      "Searched Address: M7R, Mississauga --> Found Address: Mississauga, ON M7R, Canada | lat: 43.6369656 | lng : -79.615819\n",
      "Searched Address: M9R, Etobicoke --> Found Address: Etobicoke, ON M9R, Canada | lat: 43.6889054 | lng : -79.5547244\n",
      "Searched Address: M1S, Scarborough --> Found Address: Scarborough, ON M1S, Canada | lat: 43.7942003 | lng : -79.2620294\n",
      "Searched Address: M4S, Central Toronto --> Found Address: Toronto, ON M4S, Canada | lat: 43.7043244 | lng : -79.3887901\n",
      "Searched Address: M5S, Downtown Toronto --> Found Address: Toronto, ON M5S, Canada | lat: 43.6626956 | lng : -79.40004929999999\n",
      "Searched Address: M6S, West Toronto --> Found Address: W Toronto St, Toronto, ON M6N, Canada | lat: 43.6694459 | lng : -79.46914749999999\n",
      "Searched Address: M1T, Scarborough --> Found Address: Scarborough, ON M1T, Canada | lat: 43.7816375 | lng : -79.3043021\n",
      "Searched Address: M4T, Central Toronto --> Found Address: Toronto, ON M4T, Canada | lat: 43.6895743 | lng : -79.3831599\n",
      "Searched Address: M5T, Downtown Toronto --> Found Address: Toronto, ON M5T, Canada | lat: 43.6532057 | lng : -79.40004929999999\n",
      "Searched Address: M1V, Scarborough --> Found Address: Scarborough, ON M1V, Canada | lat: 43.8152522 | lng : -79.2845772\n",
      "Searched Address: M4V, Central Toronto --> Found Address: Toronto, ON, Canada | lat: 43.653226 | lng : -79.3831843\n",
      "Searched Address: M5V, Downtown Toronto --> Found Address: Toronto, ON M5V, Canada | lat: 43.6289467 | lng : -79.3944199\n",
      "Searched Address: M8V, Etobicoke --> Found Address: Etobicoke, ON M8V, Canada | lat: 43.6056466 | lng : -79.5013207\n",
      "Searched Address: M9V, Etobicoke --> Found Address: Etobicoke, ON M9V, Canada | lat: 43.7394164 | lng : -79.58843689999999\n",
      "Searched Address: M1W, Scarborough --> Found Address: Scarborough, ON M1W, Canada | lat: 43.7995252 | lng : -79.3183887\n",
      "Searched Address: M4W, Downtown Toronto --> Found Address: Toronto, ON M4W, Canada | lat: 43.6795626 | lng : -79.3775294\n",
      "Searched Address: M5W, Downtown Toronto --> Found Address: Toronto, ON M5W, Canada | lat: 43.6464352 | lng : -79.37484599999999\n",
      "Searched Address: M8W, Etobicoke --> Found Address: Etobicoke, ON M8W, Canada | lat: 43.6024137 | lng : -79.5434841\n",
      "Searched Address: M9W, Etobicoke --> Found Address: Etobicoke, ON M9W, Canada | lat: 43.7067483 | lng : -79.59405439999999\n",
      "Searched Address: M1X, Scarborough --> Found Address: Scarborough, ON M1X, Canada | lat: 43.8361247 | lng : -79.20563609999999\n",
      "Searched Address: M4X, Downtown Toronto --> Found Address: Toronto, ON M4X, Canada | lat: 43.667967 | lng : -79.3676753\n",
      "Searched Address: M5X, Downtown Toronto --> Found Address: Toronto, ON M5X, Canada | lat: 43.6484292 | lng : -79.3822802\n",
      "Searched Address: M8X, Etobicoke --> Found Address: Etobicoke, ON M8X, Canada | lat: 43.6536536 | lng : -79.5069436\n",
      "Searched Address: M4Y, Downtown Toronto --> Found Address: Toronto, ON M4Y, Canada | lat: 43.6658599 | lng : -79.3831599\n",
      "Searched Address: M7Y, East Toronto --> Found Address: Toronto, ON M7Y, Canada | lat: 43.6627439 | lng : -79.321558\n",
      "Searched Address: M8Y, Etobicoke --> Found Address: Etobicoke, ON M8Y, Canada | lat: 43.6362579 | lng : -79.49850909999999\n",
      "Searched Address: M8Z, Etobicoke --> Found Address: Etobicoke, ON M8Z, Canada | lat: 43.6288408 | lng : -79.5209994\n"
     ]
    }
   ],
   "source": [
    "df_latlng = df_table.apply(get_latlng,axis=1)"
   ]
  },
  {
   "cell_type": "code",
   "execution_count": 12,
   "metadata": {},
   "outputs": [
    {
     "data": {
      "text/html": [
       "<div>\n",
       "<style scoped>\n",
       "    .dataframe tbody tr th:only-of-type {\n",
       "        vertical-align: middle;\n",
       "    }\n",
       "\n",
       "    .dataframe tbody tr th {\n",
       "        vertical-align: top;\n",
       "    }\n",
       "\n",
       "    .dataframe thead th {\n",
       "        text-align: right;\n",
       "    }\n",
       "</style>\n",
       "<table border=\"1\" class=\"dataframe\">\n",
       "  <thead>\n",
       "    <tr style=\"text-align: right;\">\n",
       "      <th></th>\n",
       "      <th>PostalCode</th>\n",
       "      <th>Borough</th>\n",
       "      <th>Neighbourhood</th>\n",
       "      <th>Latitude</th>\n",
       "      <th>Longitude</th>\n",
       "    </tr>\n",
       "  </thead>\n",
       "  <tbody>\n",
       "    <tr>\n",
       "      <th>2</th>\n",
       "      <td>M3A</td>\n",
       "      <td>North York</td>\n",
       "      <td>Parkwoods</td>\n",
       "      <td>43.753259</td>\n",
       "      <td>-79.329656</td>\n",
       "    </tr>\n",
       "    <tr>\n",
       "      <th>3</th>\n",
       "      <td>M4A</td>\n",
       "      <td>North York</td>\n",
       "      <td>Victoria Village</td>\n",
       "      <td>43.725882</td>\n",
       "      <td>-79.315572</td>\n",
       "    </tr>\n",
       "    <tr>\n",
       "      <th>4</th>\n",
       "      <td>M5A</td>\n",
       "      <td>Downtown Toronto</td>\n",
       "      <td>Regent Park, Harbourfront</td>\n",
       "      <td>43.654260</td>\n",
       "      <td>-79.360636</td>\n",
       "    </tr>\n",
       "    <tr>\n",
       "      <th>5</th>\n",
       "      <td>M6A</td>\n",
       "      <td>North York</td>\n",
       "      <td>Lawrence Manor, Lawrence Heights</td>\n",
       "      <td>43.718518</td>\n",
       "      <td>-79.464763</td>\n",
       "    </tr>\n",
       "    <tr>\n",
       "      <th>6</th>\n",
       "      <td>M7A</td>\n",
       "      <td>Downtown Toronto</td>\n",
       "      <td>Queen's Park, Ontario Provincial Government</td>\n",
       "      <td>43.662301</td>\n",
       "      <td>-79.389494</td>\n",
       "    </tr>\n",
       "  </tbody>\n",
       "</table>\n",
       "</div>"
      ],
      "text/plain": [
       "  PostalCode           Borough                                Neighbourhood  \\\n",
       "2        M3A        North York                                    Parkwoods   \n",
       "3        M4A        North York                             Victoria Village   \n",
       "4        M5A  Downtown Toronto                    Regent Park, Harbourfront   \n",
       "5        M6A        North York             Lawrence Manor, Lawrence Heights   \n",
       "6        M7A  Downtown Toronto  Queen's Park, Ontario Provincial Government   \n",
       "\n",
       "    Latitude  Longitude  \n",
       "2  43.753259 -79.329656  \n",
       "3  43.725882 -79.315572  \n",
       "4  43.654260 -79.360636  \n",
       "5  43.718518 -79.464763  \n",
       "6  43.662301 -79.389494  "
      ]
     },
     "execution_count": 12,
     "metadata": {},
     "output_type": "execute_result"
    }
   ],
   "source": [
    "df_latlng.head()"
   ]
  },
  {
   "cell_type": "code",
   "execution_count": null,
   "metadata": {},
   "outputs": [],
   "source": []
  }
 ],
 "metadata": {
  "kernelspec": {
   "display_name": "Python 3",
   "language": "python",
   "name": "python3"
  },
  "language_info": {
   "codemirror_mode": {
    "name": "ipython",
    "version": 3
   },
   "file_extension": ".py",
   "mimetype": "text/x-python",
   "name": "python",
   "nbconvert_exporter": "python",
   "pygments_lexer": "ipython3",
   "version": "3.8.3"
  }
 },
 "nbformat": 4,
 "nbformat_minor": 4
}
